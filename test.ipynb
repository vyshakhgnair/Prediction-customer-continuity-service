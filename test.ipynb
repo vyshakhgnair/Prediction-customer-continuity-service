{
 "cells": [
  {
   "cell_type": "code",
   "execution_count": 6,
   "metadata": {},
   "outputs": [
    {
     "data": {
      "text/html": [
       "<div>\n",
       "<style scoped>\n",
       "    .dataframe tbody tr th:only-of-type {\n",
       "        vertical-align: middle;\n",
       "    }\n",
       "\n",
       "    .dataframe tbody tr th {\n",
       "        vertical-align: top;\n",
       "    }\n",
       "\n",
       "    .dataframe thead th {\n",
       "        text-align: right;\n",
       "    }\n",
       "</style>\n",
       "<table border=\"1\" class=\"dataframe\">\n",
       "  <thead>\n",
       "    <tr style=\"text-align: right;\">\n",
       "      <th></th>\n",
       "      <th>customerID</th>\n",
       "      <th>gender</th>\n",
       "      <th>SeniorCitizen</th>\n",
       "      <th>Partner</th>\n",
       "      <th>Dependents</th>\n",
       "      <th>tenure</th>\n",
       "      <th>PhoneService</th>\n",
       "      <th>MultipleLines</th>\n",
       "      <th>InternetService</th>\n",
       "      <th>OnlineSecurity</th>\n",
       "      <th>...</th>\n",
       "      <th>DeviceProtection</th>\n",
       "      <th>TechSupport</th>\n",
       "      <th>StreamingTV</th>\n",
       "      <th>StreamingMovies</th>\n",
       "      <th>Contract</th>\n",
       "      <th>PaperlessBilling</th>\n",
       "      <th>PaymentMethod</th>\n",
       "      <th>MonthlyCharges</th>\n",
       "      <th>TotalCharges</th>\n",
       "      <th>Discontinued</th>\n",
       "    </tr>\n",
       "  </thead>\n",
       "  <tbody>\n",
       "  </tbody>\n",
       "</table>\n",
       "<p>0 rows × 21 columns</p>\n",
       "</div>"
      ],
      "text/plain": [
       "Empty DataFrame\n",
       "Columns: [customerID, gender, SeniorCitizen, Partner, Dependents, tenure, PhoneService, MultipleLines, InternetService, OnlineSecurity, OnlineBackup, DeviceProtection, TechSupport, StreamingTV, StreamingMovies, Contract, PaperlessBilling, PaymentMethod, MonthlyCharges, TotalCharges, Discontinued]\n",
       "Index: []\n",
       "\n",
       "[0 rows x 21 columns]"
      ]
     },
     "execution_count": 6,
     "metadata": {},
     "output_type": "execute_result"
    }
   ],
   "source": [
    "import pandas as pd\n",
    "data=pd.read_csv(\"Dataset.csv\")\n",
    "p=pd.isnull(data[\"Discontinued\"])\n",
    "data[p] "
   ]
  },
  {
   "cell_type": "code",
   "execution_count": 40,
   "metadata": {},
   "outputs": [
    {
     "data": {
      "text/plain": [
       "<bound method NDFrame.describe of       gender  SeniorCitizen  Partner  Dependents  tenure  PhoneService  \\\n",
       "0        0.0            0.0      1.0         0.0     1.0           0.0   \n",
       "1        1.0            0.0      0.0         0.0    34.0           1.0   \n",
       "2        1.0            0.0      0.0         0.0     2.0           1.0   \n",
       "3        1.0            0.0      0.0         0.0    45.0           0.0   \n",
       "4        0.0            0.0      0.0         0.0     2.0           1.0   \n",
       "...      ...            ...      ...         ...     ...           ...   \n",
       "7038     1.0            0.0      1.0         1.0    24.0           1.0   \n",
       "7039     0.0            0.0      1.0         1.0    72.0           1.0   \n",
       "7040     0.0            0.0      1.0         1.0    11.0           0.0   \n",
       "7041     1.0            1.0      1.0         0.0     4.0           1.0   \n",
       "7042     1.0            0.0      0.0         0.0    66.0           1.0   \n",
       "\n",
       "      MultipleLines  InternetService  OnlineSecurity  OnlineBackup  \\\n",
       "0               2.0              1.0             0.0           1.0   \n",
       "1               0.0              1.0             1.0           0.0   \n",
       "2               0.0              1.0             1.0           1.0   \n",
       "3               2.0              1.0             1.0           0.0   \n",
       "4               0.0              2.0             0.0           0.0   \n",
       "...             ...              ...             ...           ...   \n",
       "7038            1.0              1.0             1.0           0.0   \n",
       "7039            1.0              2.0             0.0           1.0   \n",
       "7040            2.0              1.0             1.0           0.0   \n",
       "7041            1.0              2.0             0.0           0.0   \n",
       "7042            0.0              2.0             1.0           0.0   \n",
       "\n",
       "      DeviceProtection  TechSupport  StreamingTV  StreamingMovies  Contract  \\\n",
       "0                  0.0          0.0          0.0              0.0       0.0   \n",
       "1                  1.0          0.0          0.0              0.0       1.0   \n",
       "2                  0.0          0.0          0.0              0.0       0.0   \n",
       "3                  1.0          1.0          0.0              0.0       1.0   \n",
       "4                  0.0          0.0          0.0              0.0       0.0   \n",
       "...                ...          ...          ...              ...       ...   \n",
       "7038               1.0          1.0          1.0              1.0       1.0   \n",
       "7039               1.0          0.0          1.0              1.0       1.0   \n",
       "7040               0.0          0.0          0.0              0.0       0.0   \n",
       "7041               0.0          0.0          0.0              0.0       0.0   \n",
       "7042               1.0          1.0          1.0              1.0       2.0   \n",
       "\n",
       "      PaperlessBilling  PaymentMethod  MonthlyCharges  TotalCharges  \\\n",
       "0                  1.0            0.0           29.85         29.85   \n",
       "1                  0.0            1.0           56.95       1889.50   \n",
       "2                  1.0            1.0           53.85        108.15   \n",
       "3                  0.0            2.0           42.30       1840.75   \n",
       "4                  1.0            0.0           70.70        151.65   \n",
       "...                ...            ...             ...           ...   \n",
       "7038               1.0            1.0           84.80       1990.50   \n",
       "7039               1.0            3.0          103.20       7362.90   \n",
       "7040               1.0            0.0           29.60        346.45   \n",
       "7041               1.0            1.0           74.40        306.60   \n",
       "7042               1.0            2.0          105.65       6844.50   \n",
       "\n",
       "      Discontinued  \n",
       "0              0.0  \n",
       "1              0.0  \n",
       "2              1.0  \n",
       "3              0.0  \n",
       "4              1.0  \n",
       "...            ...  \n",
       "7038           0.0  \n",
       "7039           0.0  \n",
       "7040           0.0  \n",
       "7041           1.0  \n",
       "7042           0.0  \n",
       "\n",
       "[7043 rows x 20 columns]>"
      ]
     },
     "execution_count": 40,
     "metadata": {},
     "output_type": "execute_result"
    }
   ],
   "source": [
    "from sklearn.impute import SimpleImputer\n",
    "\n",
    "# Imputation\n",
    "my_imputer = SimpleImputer()\n",
    "imputed_X_train = pd.DataFrame(my_imputer.fit_transform(data))\n",
    "\n",
    "\n",
    "# Imputation removed column names; put them back\n",
    "imputed_X_train.columns = data.columns\n",
    "\n",
    "\n",
    "imputed_X_train.describe\n"
   ]
  },
  {
   "cell_type": "code",
   "execution_count": 41,
   "metadata": {},
   "outputs": [],
   "source": [
    "data.head()\n",
    "df=pd.DataFrame(imputed_X_train)\n",
    "df.to_csv('Dataset1.csv')"
   ]
  }
 ],
 "metadata": {
  "interpreter": {
   "hash": "916dbcbb3f70747c44a77c7bcd40155683ae19c65e1c03b4aa3499c5328201f1"
  },
  "kernelspec": {
   "display_name": "Python 3.9.7 64-bit",
   "language": "python",
   "name": "python3"
  },
  "language_info": {
   "codemirror_mode": {
    "name": "ipython",
    "version": 3
   },
   "file_extension": ".py",
   "mimetype": "text/x-python",
   "name": "python",
   "nbconvert_exporter": "python",
   "pygments_lexer": "ipython3",
   "version": "3.9.7"
  },
  "orig_nbformat": 4
 },
 "nbformat": 4,
 "nbformat_minor": 2
}
