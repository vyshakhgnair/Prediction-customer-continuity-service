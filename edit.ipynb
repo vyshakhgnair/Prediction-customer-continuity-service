{
 "cells": [
  {
   "cell_type": "code",
   "execution_count": 65,
   "metadata": {},
   "outputs": [],
   "source": [
    "import pandas as pd"
   ]
  },
  {
   "cell_type": "code",
   "execution_count": 70,
   "metadata": {},
   "outputs": [
    {
     "name": "stdout",
     "output_type": "stream",
     "text": [
      "0       Month-to-month\n",
      "1             One year\n",
      "2       Month-to-month\n",
      "3             One year\n",
      "4       Month-to-month\n",
      "             ...      \n",
      "7038          One year\n",
      "7039          One year\n",
      "7040    Month-to-month\n",
      "7041    Month-to-month\n",
      "7042          Two year\n",
      "Name: Contract, Length: 7043, dtype: object\n"
     ]
    }
   ],
   "source": [
    "data=pd.read_csv('Dataset1.csv')\n",
    "y=data.Contract\n",
    "print(y)"
   ]
  },
  {
   "cell_type": "code",
   "execution_count": 71,
   "metadata": {},
   "outputs": [
    {
     "name": "stderr",
     "output_type": "stream",
     "text": [
      "/tmp/ipykernel_9479/3580915029.py:3: SettingWithCopyWarning: \n",
      "A value is trying to be set on a copy of a slice from a DataFrame\n",
      "\n",
      "See the caveats in the documentation: https://pandas.pydata.org/pandas-docs/stable/user_guide/indexing.html#returning-a-view-versus-a-copy\n",
      "  data.Contract[i]=0\n",
      "/tmp/ipykernel_9479/3580915029.py:5: SettingWithCopyWarning: \n",
      "A value is trying to be set on a copy of a slice from a DataFrame\n",
      "\n",
      "See the caveats in the documentation: https://pandas.pydata.org/pandas-docs/stable/user_guide/indexing.html#returning-a-view-versus-a-copy\n",
      "  data.Contract[i]=1\n",
      "/tmp/ipykernel_9479/3580915029.py:7: SettingWithCopyWarning: \n",
      "A value is trying to be set on a copy of a slice from a DataFrame\n",
      "\n",
      "See the caveats in the documentation: https://pandas.pydata.org/pandas-docs/stable/user_guide/indexing.html#returning-a-view-versus-a-copy\n",
      "  data.Contract[i]=2\n"
     ]
    }
   ],
   "source": [
    "for i in range(0,7043):\n",
    "    if(data.PaymentMethod[i]=='Electronic check'):\n",
    "        data.PaymentMethod[i]=0\n",
    "    elif(data.PaymentMethod[i]=='Mailed check'):\n",
    "        data.PaymentMethod[i]=1\n",
    "    elif(data.PaymentMethod[i]=='Bank transfer (automatic)'):\n",
    "        data.PaymentMethod[i]=2    \n",
    "    else:\n",
    "        data.PaymentMethod[i]=3     \n"
   ]
  },
  {
   "cell_type": "code",
   "execution_count": 72,
   "metadata": {},
   "outputs": [],
   "source": [
    "data.head()\n",
    "df=pd.DataFrame(data)\n",
    "df.to_csv('Dataset1.csv')"
   ]
  }
 ],
 "metadata": {
  "interpreter": {
   "hash": "916dbcbb3f70747c44a77c7bcd40155683ae19c65e1c03b4aa3499c5328201f1"
  },
  "kernelspec": {
   "display_name": "Python 3.9.7 64-bit",
   "language": "python",
   "name": "python3"
  },
  "language_info": {
   "codemirror_mode": {
    "name": "ipython",
    "version": 3
   },
   "file_extension": ".py",
   "mimetype": "text/x-python",
   "name": "python",
   "nbconvert_exporter": "python",
   "pygments_lexer": "ipython3",
   "version": "3.9.7"
  },
  "orig_nbformat": 4
 },
 "nbformat": 4,
 "nbformat_minor": 2
}
